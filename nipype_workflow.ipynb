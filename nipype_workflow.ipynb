{
 "cells": [
  {
   "cell_type": "code",
   "execution_count": 2,
   "metadata": {
    "pycharm": {
     "name": "#%%\n"
    }
   },
   "outputs": [],
   "source": [
    "from nilearn import plotting\n",
    "from nilearn.image import resample_img, mean_img\n",
    "from nilearn import datasets\n",
    "import nibabel as nib\n",
    "from nipype.interfaces import fsl\n",
    "from nipype.interfaces.ants import N4BiasFieldCorrection, RegistrationSynQuick\n",
    "from lib.zscore_norm import zscore_normalize\n",
    "from utils import applyxfm4d\n",
    "\n",
    "\n",
    "atlas_folder = \"/data/haoyuezhang/data/vascular_territory_template/\"\n",
    "data_test_folder = '/data/haoyuezhang/data/vascular_territory_template/testcase/'\n",
    "atl_terr_path = atlas_folder+'mni_vascular_territories.nii.gz'\n",
    "atl_flair_path = atlas_folder + 'flair_test.nii.gz'"
   ]
  },
  {
   "cell_type": "code",
   "execution_count": null,
   "metadata": {
    "pycharm": {
     "is_executing": true,
     "name": "#%%\n"
    }
   },
   "outputs": [],
   "source": [
    "pwi_path = data_test_folder+'540016/PWI.nii.gz'\n",
    "pwi = nib.load(pwi_path)\n",
    "print(pwi.shape)"
   ]
  },
  {
   "cell_type": "code",
   "execution_count": 3,
   "metadata": {},
   "outputs": [
    {
     "name": "stdout",
     "output_type": "stream",
     "text": [
      "(232, 256, 26)\n"
     ]
    }
   ],
   "source": [
    "flair_path = data_test_folder+'FLAIR.nii.gz'\n",
    "flair = nib.load(flair_path)\n",
    "print(flair.shape)"
   ]
  },
  {
   "cell_type": "code",
   "execution_count": 4,
   "metadata": {},
   "outputs": [
    {
     "name": "stdout",
     "output_type": "stream",
     "text": [
      "(224, 224, 26)\n"
     ]
    }
   ],
   "source": [
    "atl_terr = nib.load(atl_terr_path)\n",
    "atl_flair = nib.load(atl_flair_path)\n",
    "print(atl_flair.shape)"
   ]
  },
  {
   "cell_type": "code",
   "execution_count": 23,
   "metadata": {
    "pycharm": {
     "is_executing": true
    }
   },
   "outputs": [],
   "source": [
    "## manual registration starts here\n",
    "\n",
    "reorient = fsl.utils.Reorient2Std()\n",
    "reorient.inputs.in_file = flair_path\n",
    "reorient.inputs.out_file = flair_path\n",
    "res = reorient.run() "
   ]
  },
  {
   "cell_type": "code",
   "execution_count": 31,
   "metadata": {
    "pycharm": {
     "is_executing": true
    }
   },
   "outputs": [
    {
     "name": "stdout",
     "output_type": "stream",
     "text": [
      "200917-19:45:41,970 nipype.interface INFO:\n",
      "\t stdout 2020-09-17T19:45:41.970670:Final FOV is: \n",
      "200917-19:45:41,971 nipype.interface INFO:\n",
      "\t stdout 2020-09-17T19:45:41.970670:0.000000 232.000000 0.000000 256.000000 0.000000 25.000000 \n",
      "200917-19:45:41,972 nipype.interface INFO:\n",
      "\t stdout 2020-09-17T19:45:41.970670:\n"
     ]
    },
    {
     "data": {
      "text/plain": [
       "<nipype.interfaces.base.support.InterfaceResult at 0x7f1bb3c7ef50>"
      ]
     },
     "execution_count": 31,
     "metadata": {},
     "output_type": "execute_result"
    }
   ],
   "source": [
    "# robust fov to remove neck and lower head automatically\n",
    "\n",
    "rf = fsl.utils.RobustFOV()\n",
    "rf.inputs.in_file = data_test_folder+'FLAIR.nii.gz'\n",
    "rf.inputs.out_roi = data_test_folder+'FLAIR_RF.nii.gz'\n",
    "rf.cmdline\n",
    "rf.run()"
   ]
  },
  {
   "cell_type": "code",
   "execution_count": 32,
   "metadata": {
    "pycharm": {
     "is_executing": true
    }
   },
   "outputs": [],
   "source": [
    "# two run experiment\n",
    "btr1 = fsl.BET()\n",
    "btr1.inputs.in_file = data_test_folder+'FLAIR_RF.nii.gz'\n",
    "btr1.inputs.robust = True\n",
    "btr1.inputs.frac = 0.2\n",
    "btr1.inputs.out_file = data_test_folder+'FLAIR_RF.nii.gz'\n",
    "res = btr1.run()"
   ]
  },
  {
   "cell_type": "code",
   "execution_count": 33,
   "metadata": {
    "pycharm": {
     "is_executing": true
    }
   },
   "outputs": [],
   "source": [
    "n4 = N4BiasFieldCorrection()\n",
    "n4.inputs.dimension = 3\n",
    "n4.inputs.input_image = data_test_folder+'FLAIR_RF.nii.gz'\n",
    "n4.inputs.bspline_fitting_distance = 300\n",
    "n4.inputs.shrink_factor = 3\n",
    "n4.inputs.n_iterations = [50,50,30,20]\n",
    "n4.inputs.output_image = data_test_folder+'FLAIR_RF.nii.gz'\n",
    "res = n4.run()"
   ]
  },
  {
   "cell_type": "code",
   "execution_count": 83,
   "metadata": {
    "pycharm": {
     "is_executing": true
    }
   },
   "outputs": [],
   "source": [
    "flt = fsl.FLIRT(cost_func='leastsq', interp='trilinear',\n",
    "                searchr_x=[-180, 180], searchr_y=[-180, 180], searchr_z=[-180,180],dof=12)\n",
    "flt.inputs.in_file = data_test_folder+'FLAIR_RF.nii.gz'\n",
    "flt.inputs.reference = atl_flair_path\n",
    "flt.inputs.out_file = data_test_folder+'FLAIR_first_run_r.nii.gz'\n",
    "flt.inputs.out_matrix_file = data_test_folder+'FLAIR_r_transform.mat'\n",
    "res = flt.run()"
   ]
  },
  {
   "cell_type": "code",
   "execution_count": 56,
   "metadata": {},
   "outputs": [],
   "source": [
    "btr2 = fsl.BET()\n",
    "btr2.inputs.in_file = data_test_folder+'FLAIR_first_run_r.nii.gz'\n",
    "btr2.inputs.robust = True\n",
    "btr2.inputs.frac = 0.2\n",
    "btr2.inputs.mask = True\n",
    "btr2.inputs.out_file = data_test_folder+'FLAIR_r.nii.gz'\n",
    "res = btr2.run()"
   ]
  },
  {
   "cell_type": "code",
   "execution_count": 57,
   "metadata": {},
   "outputs": [],
   "source": [
    "# z score normalization\n",
    "FLAIR_path = data_test_folder+'FLAIR_r.nii.gz'\n",
    "FLAIR_final = nib.load(FLAIR_path)\n",
    "FLAIR_mask_path = data_test_folder+ 'FLAIR_r_mask.nii.gz'\n",
    "mask = nib.load(FLAIR_mask_path)\n",
    "FLAIR_norm = zscore_normalize(FLAIR_final, mask)\n",
    "nib.save(FLAIR_norm, FLAIR_path)"
   ]
  },
  {
   "cell_type": "code",
   "execution_count": 58,
   "metadata": {},
   "outputs": [
    {
     "data": {
      "text/plain": [
       "0"
      ]
     },
     "execution_count": 58,
     "metadata": {},
     "output_type": "execute_result"
    }
   ],
   "source": [
    "import os\n",
    "# register with pwi\n",
    "\n",
    "# automatic reorient to MNI direction\n",
    "reorient = fsl.utils.Reorient2Std()\n",
    "reorient.inputs.in_file = pwi_path\n",
    "reorient.inputs.out_file = data_test_folder+'PWI.nii.gz'\n",
    "res = reorient.run() \n",
    "                \n"
   ]
  },
  {
   "cell_type": "code",
   "execution_count": 68,
   "metadata": {},
   "outputs": [],
   "source": [
    "btr1 = fsl.BET()\n",
    "btr1.inputs.in_file = data_test_folder+'PWI.nii.gz'\n",
    "btr1.inputs.frac = 0.2\n",
    "btr1.inputs.out_file = data_test_folder+'PWI.nii.gz'\n",
    "btr1.inputs.functional = True\n",
    "res = btr1.run()"
   ]
  },
  {
   "cell_type": "code",
   "execution_count": 84,
   "metadata": {},
   "outputs": [
    {
     "data": {
      "text/plain": [
       "0"
      ]
     },
     "execution_count": 84,
     "metadata": {},
     "output_type": "execute_result"
    }
   ],
   "source": [
    "os.chdir(data_test_folder)\n",
    "# either use my customized applyxf4d wrapper for perfusion data or directly run this CMD\n",
    "applyXFM_cmd = \"applyxfm4D PWI.nii.gz FLAIR_first_run_r.nii.gz PWI_r.nii.gz FLAIR_r_transform.mat -singlematrix\"\n",
    "os.system(applyXFM_cmd)"
   ]
  },
  {
   "cell_type": "code",
   "execution_count": null,
   "metadata": {},
   "outputs": [],
   "source": [
    "btr2 = fsl.BET()\n",
    "btr2.inputs.in_file = data_test_folder+'PWI_r.nii.gz'\n",
    "btr2.inputs.functional = True\n",
    "btr2.inputs.frac = 0.2\n",
    "btr2.inputs.mask = True\n",
    "btr2.inputs.out_file = data_test_folder+'PWI_r.nii.gz'\n",
    "res = btr2.run()"
   ]
  },
  {
   "cell_type": "code",
   "execution_count": 79,
   "metadata": {},
   "outputs": [
    {
     "name": "stdout",
     "output_type": "stream",
     "text": [
      "200918-12:27:38,71 nipype.interface INFO:\n",
      "\t stderr 2020-09-18T12:27:38.071023:Image Exception : #75 :: 3D only method called by higher-dimensional volume.\n",
      "200918-12:27:38,75 nipype.interface INFO:\n",
      "\t stderr 2020-09-18T12:27:38.075553:3D only method called by higher-dimensional volume.\n"
     ]
    }
   ],
   "source": [
    "flt = fsl.FLIRT(cost_func='mutualinfo', interp='trilinear',\n",
    "                searchr_x=[-180, 180], searchr_y=[-180, 180], searchr_z=[-180,180],dof=12)\n",
    "flt.inputs.in_file = data_test_folder+'PWI.nii.gz'\n",
    "flt.inputs.reference = data_test_folder+'FLAIR_r.nii.gz'\n",
    "flt.inputs.out_file = data_test_folder+'PWI_r.nii.gz'\n",
    "flt.inputs.in_matrix_file = data_test_folder+'FLAIR_r_transform.mat'\n",
    "flt.inputs.apply_xfm = True\n",
    "res = flt.run()"
   ]
  }
 ],
 "metadata": {
  "kernelspec": {
   "display_name": "Python 3",
   "language": "python",
   "name": "python3"
  },
  "language_info": {
   "codemirror_mode": {
    "name": "ipython",
    "version": 3
   },
   "file_extension": ".py",
   "mimetype": "text/x-python",
   "name": "python",
   "nbconvert_exporter": "python",
   "pygments_lexer": "ipython3",
   "version": "3.7.6"
  },
  "pycharm": {
   "stem_cell": {
    "cell_type": "raw",
    "source": [],
    "metadata": {
     "collapsed": false
    }
   }
  }
 },
 "nbformat": 4,
 "nbformat_minor": 1
}