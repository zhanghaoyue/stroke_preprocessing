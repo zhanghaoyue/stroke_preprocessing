{
 "cells": [
  {
   "cell_type": "code",
   "execution_count": null,
   "metadata": {
    "collapsed": true
   },
   "outputs": [],
   "source": [
    "from builtins import range\n",
    "\n",
    "import nipype.interfaces.io as nio  # Data i/o\n",
    "import nipype.interfaces.spm as spm  # spm\n",
    "import nipype.pipeline.engine as pe  # pypeline engine\n",
    "import nipype.algorithms.modelgen as model  # model specification\n",
    "from nipype.interfaces.base import Bunch\n",
    "from nilearn import plotting\n",
    "import os  # system functions\n",
    "\n",
    "%matplotlib inline\n"
   ]
  }
 ],
 "metadata": {
  "kernelspec": {
   "display_name": "Python 3",
   "language": "python",
   "name": "python3"
  },
  "language_info": {
   "codemirror_mode": {
    "name": "ipython",
    "version": 3
   },
   "file_extension": ".py",
   "mimetype": "text/x-python",
   "name": "python",
   "nbconvert_exporter": "python",
   "pygments_lexer": "ipython3",
   "version": "3.6.8"
  }
 },
 "nbformat": 4,
 "nbformat_minor": 1
}
