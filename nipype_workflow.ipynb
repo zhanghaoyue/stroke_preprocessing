{
 "cells": [
  {
   "cell_type": "code",
   "execution_count": 25,
   "metadata": {
    "pycharm": {
     "is_executing": false,
     "name": "#%%\n"
    }
   },
   "outputs": [],
   "source": [
    "from nilearn import plotting\n",
    "from nilearn.image import resample_img, mean_img\n",
    "from nilearn import datasets\n",
    "import nibabel as nib\n",
    "from nipype.interfaces import fsl\n",
    "from nipype.interfaces.ants import N4BiasFieldCorrection, RegistrationSynQuick\n",
    "from lib.zscore_norm import zscore_normalize\n",
    "import utils.applyxfm4d\n",
    "\n",
    "\n",
    "atlas_folder = \"G:/StrokeResearch/vascular territory template/\"\n",
    "data_test_folder = 'G:/StrokeResearch/vascular territory template/testcase/'\n",
    "atl_terr_path = atlas_folder+'mni_vascular_territories.nii.gz'\n",
    "atl_flair_path = atlas_folder + 'caa_flair_in_mni_template_smooth.nii.gz'"
   ]
  },
  {
   "cell_type": "code",
   "execution_count": 20,
   "metadata": {
    "pycharm": {
     "is_executing": true,
     "name": "#%%\n"
    }
   },
   "outputs": [
    {
     "name": "stdout",
     "output_type": "stream",
     "text": [
      "(128, 128, 24, 90)\n"
     ]
    }
   ],
   "source": [
    "pwi_path = data_test_folder+'540016/PWI.nii.gz'\n",
    "pwi = nib.load(pwi_path)\n",
    "print(pwi.shape)"
   ]
  },
  {
   "cell_type": "code",
   "execution_count": 21,
   "metadata": {},
   "outputs": [
    {
     "name": "stdout",
     "output_type": "stream",
     "text": [
      "(232, 256, 26)\n"
     ]
    }
   ],
   "source": [
    "flair_path = data_test_folder+'540016/FLAIR.nii.gz'\n",
    "flair = nib.load(flair_path)\n",
    "print(flair.shape)"
   ]
  },
  {
   "cell_type": "code",
   "execution_count": 23,
   "metadata": {},
   "outputs": [
    {
     "name": "stdout",
     "output_type": "stream",
     "text": [
      "(182, 218, 182)\n"
     ]
    }
   ],
   "source": [
    "atl_terr = nib.load(atl_terr_path)\n",
    "atl_flair = nib.load(atl_flair_path)\n",
    "print(atl_flair.shape)"
   ]
  },
  {
   "cell_type": "code",
   "execution_count": 26,
   "metadata": {
    "pycharm": {
     "is_executing": true
    }
   },
   "outputs": [
    {
     "name": "stdout",
     "output_type": "stream",
     "text": [
      "200917-15:05:34,383 nipype.interface WARNING:\n",
      "\t FSLOUTPUTTYPE environment variable is not set. Setting FSLOUTPUTTYPE=NIFTI\n"
     ]
    },
    {
     "ename": "OSError",
     "evalue": "No command \"fslreorient2std\" found on host HarryPC. Please check that the corresponding package is installed.",
     "output_type": "error",
     "traceback": [
      "\u001B[1;31m---------------------------------------------------------------------------\u001B[0m",
      "\u001B[1;31mOSError\u001B[0m                                   Traceback (most recent call last)",
      "\u001B[1;32m<ipython-input-26-c58263eca218>\u001B[0m in \u001B[0;36m<module>\u001B[1;34m\u001B[0m\n\u001B[0;32m      4\u001B[0m \u001B[0mreorient\u001B[0m\u001B[1;33m.\u001B[0m\u001B[0minputs\u001B[0m\u001B[1;33m.\u001B[0m\u001B[0min_file\u001B[0m \u001B[1;33m=\u001B[0m \u001B[0mflair_path\u001B[0m\u001B[1;33m\u001B[0m\u001B[1;33m\u001B[0m\u001B[0m\n\u001B[0;32m      5\u001B[0m \u001B[0mreorient\u001B[0m\u001B[1;33m.\u001B[0m\u001B[0minputs\u001B[0m\u001B[1;33m.\u001B[0m\u001B[0mout_file\u001B[0m \u001B[1;33m=\u001B[0m \u001B[0mdata_test_folder\u001B[0m\u001B[1;33m+\u001B[0m\u001B[1;34m'FLAIR.nii.gz'\u001B[0m\u001B[1;33m\u001B[0m\u001B[1;33m\u001B[0m\u001B[0m\n\u001B[1;32m----> 6\u001B[1;33m \u001B[0mres\u001B[0m \u001B[1;33m=\u001B[0m \u001B[0mreorient\u001B[0m\u001B[1;33m.\u001B[0m\u001B[0mrun\u001B[0m\u001B[1;33m(\u001B[0m\u001B[1;33m)\u001B[0m\u001B[1;33m\u001B[0m\u001B[1;33m\u001B[0m\u001B[0m\n\u001B[0m",
      "\u001B[1;32mc:\\users\\harry\\anaconda3\\envs\\stroke_preprocessing\\lib\\site-packages\\nipype\\interfaces\\base\\core.py\u001B[0m in \u001B[0;36mrun\u001B[1;34m(self, cwd, ignore_exception, **inputs)\u001B[0m\n\u001B[0;32m    417\u001B[0m         \u001B[1;32mtry\u001B[0m\u001B[1;33m:\u001B[0m\u001B[1;33m\u001B[0m\u001B[1;33m\u001B[0m\u001B[0m\n\u001B[0;32m    418\u001B[0m             \u001B[0mruntime\u001B[0m \u001B[1;33m=\u001B[0m \u001B[0mself\u001B[0m\u001B[1;33m.\u001B[0m\u001B[0m_pre_run_hook\u001B[0m\u001B[1;33m(\u001B[0m\u001B[0mruntime\u001B[0m\u001B[1;33m)\u001B[0m\u001B[1;33m\u001B[0m\u001B[1;33m\u001B[0m\u001B[0m\n\u001B[1;32m--> 419\u001B[1;33m             \u001B[0mruntime\u001B[0m \u001B[1;33m=\u001B[0m \u001B[0mself\u001B[0m\u001B[1;33m.\u001B[0m\u001B[0m_run_interface\u001B[0m\u001B[1;33m(\u001B[0m\u001B[0mruntime\u001B[0m\u001B[1;33m)\u001B[0m\u001B[1;33m\u001B[0m\u001B[1;33m\u001B[0m\u001B[0m\n\u001B[0m\u001B[0;32m    420\u001B[0m             \u001B[0mruntime\u001B[0m \u001B[1;33m=\u001B[0m \u001B[0mself\u001B[0m\u001B[1;33m.\u001B[0m\u001B[0m_post_run_hook\u001B[0m\u001B[1;33m(\u001B[0m\u001B[0mruntime\u001B[0m\u001B[1;33m)\u001B[0m\u001B[1;33m\u001B[0m\u001B[1;33m\u001B[0m\u001B[0m\n\u001B[0;32m    421\u001B[0m             \u001B[0moutputs\u001B[0m \u001B[1;33m=\u001B[0m \u001B[0mself\u001B[0m\u001B[1;33m.\u001B[0m\u001B[0maggregate_outputs\u001B[0m\u001B[1;33m(\u001B[0m\u001B[0mruntime\u001B[0m\u001B[1;33m)\u001B[0m\u001B[1;33m\u001B[0m\u001B[1;33m\u001B[0m\u001B[0m\n",
      "\u001B[1;32mc:\\users\\harry\\anaconda3\\envs\\stroke_preprocessing\\lib\\site-packages\\nipype\\interfaces\\base\\core.py\u001B[0m in \u001B[0;36m_run_interface\u001B[1;34m(self, runtime, correct_return_codes)\u001B[0m\n\u001B[0;32m    801\u001B[0m                 \u001B[1;34m'No command \"%s\" found on host %s. Please check that the '\u001B[0m\u001B[1;33m\u001B[0m\u001B[1;33m\u001B[0m\u001B[0m\n\u001B[0;32m    802\u001B[0m                 \u001B[1;34m\"corresponding package is installed.\"\u001B[0m\u001B[1;33m\u001B[0m\u001B[1;33m\u001B[0m\u001B[0m\n\u001B[1;32m--> 803\u001B[1;33m                 \u001B[1;33m%\u001B[0m \u001B[1;33m(\u001B[0m\u001B[0mexecutable_name\u001B[0m\u001B[1;33m,\u001B[0m \u001B[0mruntime\u001B[0m\u001B[1;33m.\u001B[0m\u001B[0mhostname\u001B[0m\u001B[1;33m)\u001B[0m\u001B[1;33m\u001B[0m\u001B[1;33m\u001B[0m\u001B[0m\n\u001B[0m\u001B[0;32m    804\u001B[0m             )\n\u001B[0;32m    805\u001B[0m \u001B[1;33m\u001B[0m\u001B[0m\n",
      "\u001B[1;31mOSError\u001B[0m: No command \"fslreorient2std\" found on host HarryPC. Please check that the corresponding package is installed."
     ]
    }
   ],
   "source": [
    "## manual registration starts here\n",
    "\n",
    "reorient = fsl.utils.Reorient2Std()\n",
    "reorient.inputs.in_file = flair_path\n",
    "reorient.inputs.out_file = data_test_folder+'FLAIR.nii.gz'\n",
    "res = reorient.run() "
   ]
  },
  {
   "cell_type": "code",
   "execution_count": null,
   "metadata": {
    "pycharm": {
     "is_executing": true
    }
   },
   "outputs": [],
   "source": [
    "# robust fov to remove neck and lower head automatically\n",
    "\n",
    "rf = fsl.utils.RobustFOV()\n",
    "rf.inputs.in_file = data_test_folder+'FLAIR.nii.gz'\n",
    "rf.inputs.out_roi = data_test_folder+'FLAIR_RF.nii.gz'\n",
    "rf.cmdline\n",
    "rf.run()"
   ]
  },
  {
   "cell_type": "code",
   "execution_count": null,
   "metadata": {
    "pycharm": {
     "is_executing": true
    }
   },
   "outputs": [],
   "source": [
    "# two run experiment\n",
    "btr1 = fsl.BET()\n",
    "btr1.inputs.in_file = data_test_folder+'FLAIR_RF.nii.gz'\n",
    "btr1.inputs.robust = True\n",
    "btr1.inputs.frac = 0.5\n",
    "btr1.inputs.out_file = data_test_folder+'FLAIR_RF.nii.gz'\n",
    "res = btr1.run()"
   ]
  },
  {
   "cell_type": "code",
   "execution_count": null,
   "metadata": {
    "pycharm": {
     "is_executing": true
    }
   },
   "outputs": [],
   "source": [
    "n4 = N4BiasFieldCorrection()\n",
    "n4.inputs.dimension = 3\n",
    "n4.inputs.input_image = data_test_folder+'FLAIR_RF.nii.gz'\n",
    "n4.inputs.bspline_fitting_distance = 300\n",
    "n4.inputs.shrink_factor = 3\n",
    "n4.inputs.n_iterations = [50,50,30,20]\n",
    "n4.inputs.output_image = data_test_folder+'FLAIR_RF.nii.gz'\n",
    "res = n4.run()"
   ]
  },
  {
   "cell_type": "code",
   "execution_count": null,
   "metadata": {
    "pycharm": {
     "is_executing": true
    }
   },
   "outputs": [],
   "source": [
    "flt = fsl.FLIRT(bins=640, cost_func='mutualinfo', interp='spline',\n",
    "                searchr_x=[-180, 180], searchr_y=[-180, 180], searchr_z=[-180,180],dof=12)\n",
    "flt.inputs.in_file = data_test_folder+'FLAIR_RF.nii.gz'\n",
    "flt.inputs.reference = atl\n",
    "flt.inputs.out_file = data_test_folder+'FLAIR_fisrt_run_r.nii.gz'\n",
    "flt.inputs.out_matrix_file = data_test_folder+'FLAIR_r_transform.nii.gz'\n",
    "res = flt.run()"
   ]
  },
  {
   "cell_type": "code",
   "execution_count": null,
   "metadata": {},
   "outputs": [],
   "source": [
    "btr2 = fsl.BET()\n",
    "btr2.inputs.in_file = data_test_folder+'FLAIR_fisrt_run_r.nii.gz'\n",
    "btr2.inputs.robust = True\n",
    "btr2.inputs.frac = 0.35\n",
    "btr2.inputs.mask = True\n",
    "btr2.inputs.out_file = data_test_folder+'FLAIR_r.nii.gz'\n",
    "res = btr2.run()"
   ]
  },
  {
   "cell_type": "code",
   "execution_count": null,
   "metadata": {},
   "outputs": [],
   "source": [
    "# z score normalization\n",
    "FLAIR_path = data_test_folder+'FLAIR_r.nii.gz'\n",
    "FLAIR_final = nib.load(FLAIR_path)\n",
    "FLAIR_mask_path = data_test_folder+ 'FLAIR_mask.nii.gz'\n",
    "mask = nib.load(FLAIR_mask_path)\n",
    "FLAIR_norm = zscore_normalize(FLAIR_final, mask)\n",
    "nib.save(FLAIR_norm, FLAIR_path)"
   ]
  },
  {
   "cell_type": "code",
   "execution_count": null,
   "metadata": {},
   "outputs": [],
   "source": [
    "plotting.plot_anat(data_test_folder+'FLAIR.nii.gz')"
   ]
  },
  {
   "cell_type": "code",
   "execution_count": null,
   "metadata": {},
   "outputs": [],
   "source": [
    "# register with pwi\n",
    "\n",
    "# automatic reorient to MNI direction\n",
    "reorient = fsl.utils.Reorient2Std()\n",
    "reorient.inputs.in_file = pwi_path\n",
    "reorient.inputs.out_file = data_test_folder+'PWI.nii.gz'\n",
    "res = reorient.run() \n",
    "                \n",
    "applyxfm4d = applyxfm4d.ApplyXfm4D()\n",
    "applyxfm4d.inputs.in_file = data_test_folder+'PWI.nii.gz'\n",
    "applyxfm4d.inputs.single_matrix = data_test_folder+'PWI_r_transform.nii.gz'\n",
    "applyxfm4d.inputs.out_file =  data_test_folder+'PWI.nii.gz'\n",
    "applyxfm4d.inputs.ref_vol = data_test_folder+'FLAIR.nii.gz'\n",
    "result = applyxfm4d.run()"
   ]
  }
 ],
 "metadata": {
  "kernelspec": {
   "display_name": "Python 3",
   "language": "python",
   "name": "python3"
  },
  "language_info": {
   "codemirror_mode": {
    "name": "ipython",
    "version": 3
   },
   "file_extension": ".py",
   "mimetype": "text/x-python",
   "name": "python",
   "nbconvert_exporter": "python",
   "pygments_lexer": "ipython3",
   "version": "3.7.9"
  }
 },
 "nbformat": 4,
 "nbformat_minor": 1
}